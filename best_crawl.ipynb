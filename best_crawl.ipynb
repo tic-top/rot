{
 "cells": [
  {
   "cell_type": "code",
   "execution_count": 14,
   "metadata": {},
   "outputs": [],
   "source": [
    "from selenium import webdriver\n",
    "from selenium.webdriver.common.by import By\n",
    "from selenium.webdriver.support.ui import WebDriverWait\n",
    "from selenium.webdriver.support import expected_conditions as EC\n",
    "from selenium.webdriver.chrome.options import *\n",
    "from lxml import etree\n",
    "from tqdm.notebook import tqdm\n",
    "from datetime import datetime\n",
    "import time\n",
    "import torch\n",
    "import pandas as pd\n",
    "import os"
   ]
  },
  {
   "cell_type": "code",
   "execution_count": 15,
   "metadata": {},
   "outputs": [],
   "source": [
    "base_url = \"https://tieba.baidu.com/f?kw={}&ie=utf-8&pn={}\"\n",
    "herf_base_url = \"https://tieba.baidu.com{}\"\n",
    "folder = \"data/{}\"\n",
    "name = \"弱智\"\n",
    "chrome_options = Options()\n",
    "chrome_options.page_load_strategy = 'eager'\n",
    "brw=webdriver.Chrome(options=chrome_options)\n",
    "brw.implicitly_wait(2)"
   ]
  },
  {
   "cell_type": "code",
   "execution_count": null,
   "metadata": {},
   "outputs": [],
   "source": []
  },
  {
   "cell_type": "code",
   "execution_count": 21,
   "metadata": {},
   "outputs": [],
   "source": [
    "def get_html(url):\n",
    "    # start_time = time.time()\n",
    "    brw.get(url)\n",
    "    # check whether is forbidden page or 安全验证 or empty page\n",
    "    # passMod_dialog-header\n",
    "    while brw.title == '百度安全验证':\n",
    "        solve_verify()\n",
    "        time.sleep(5)\n",
    "    # static page\n",
    "    content = etree.HTML(brw.page_source.replace(\"<!--\", \"\").replace(\"-->\", \"\"))\n",
    "    title = content.xpath('//div[contains(@class,\"threadlist_title pull_left j_th_tit\")]/a/@title')\n",
    "    assert len(title) > 2, \"the length of the list of title is larger than 2\"\n",
    "    author = content.xpath('//div[@class=\"t_con cleafix\"]/div[@class=\"col2_right j_threadlist_li_right \"]/div[@class=\"threadlist_lz clearfix\"]/div[contains(@class,\"threadlist_author pull_right\")]/span[contains(@class,\"tb_icon_author \")]/@title')\n",
    "    reply = content.xpath('//div[@class=\"t_con cleafix\"]/div[@class=\"col2_left j_threadlist_li_left\"]/span[@class=\"threadlist_rep_num center_text\" and @title=\"回复\"]/text()')\n",
    "    href = content.xpath('//div[@class=\"t_con cleafix\"]/div[@class=\"col2_right j_threadlist_li_right \"]/div[@class=\"threadlist_lz clearfix\"]/div[contains(@class,\"threadlist_title pull_left j_th_tit\")]/a/@href')\n",
    "    detail_path = content.xpath('//div[contains(@class,\"threadlist_abs\")]')\n",
    "    ddd = len(title) - len(detail_path)\n",
    "    batch = []\n",
    "    for i in range(len(href)):\n",
    "        info = {'title': title[i], \n",
    "                \"detail\": ' '.join(detail_path[i-ddd].xpath('.//text()')).strip() if i>=ddd else '',\n",
    "                'author': author[i].replace('主题作者: ', ''),\n",
    "                'num_reply': int(reply[i]),\n",
    "                'href': herf_base_url.format(href[i])}\n",
    "        batch.append(info)\n",
    "    return batch\n",
    "\n",
    "def get_page(page: int, name: str):\n",
    "    assert page>0\n",
    "    assert name is not None\n",
    "    url = base_url.format(name, (page-1)*50)\n",
    "    batch = get_html(url)\n",
    "    df = pd.DataFrame.from_records(batch)\n",
    "    # save df to th folder\n",
    "    df.to_csv(os.path.join(folder.format(name), f'{page}.csv'), index=False)\n",
    "\n",
    "def get_all_pages(name: str, start_page:int=1, total_page: int=2002, delta: int=1):\n",
    "    assert name is not None\n",
    "    pbar = tqdm(range(start_page, total_page+1))\n",
    "    for page in pbar:\n",
    "        pbar.set_postfix({\"Processed\": page-1})\n",
    "        try:\n",
    "            get_page(page, name)\n",
    "            time.sleep(delta)\n",
    "        except:\n",
    "            print(f'error at page {page}')\n",
    "            break"
   ]
  },
  {
   "cell_type": "code",
   "execution_count": 24,
   "metadata": {},
   "outputs": [
    {
     "data": {
      "application/vnd.jupyter.widget-view+json": {
       "model_id": "295d6ef3fa2b4029b6b6ef4d23c32791",
       "version_major": 2,
       "version_minor": 0
      },
      "text/plain": [
       "  0%|          | 0/1 [00:00<?, ?it/s]"
      ]
     },
     "metadata": {},
     "output_type": "display_data"
    }
   ],
   "source": [
    "get_all_pages(name, 957, 957, delta=0.5)"
   ]
  },
  {
   "cell_type": "code",
   "execution_count": null,
   "metadata": {},
   "outputs": [],
   "source": [
    "# page 44\n",
    "# https://tieba.baidu.com/f?kw=%E5%BC%B1%E6%99%BA&ie=utf-8&pn=47800被限制访问了"
   ]
  },
  {
   "cell_type": "markdown",
   "metadata": {},
   "source": [
    "ROT 验证码"
   ]
  },
  {
   "cell_type": "code",
   "execution_count": 4,
   "metadata": {},
   "outputs": [],
   "source": [
    "import torch.nn as nn\n",
    "from torch import Tensor\n",
    "from torchvision import models\n",
    "import torch\n",
    "\n",
    "class RotNetR(nn.Module):\n",
    "    \"\"\"\n",
    "    Args:\n",
    "        train (bool, optional): True to load the pretrained parameters. Defaults to True.\n",
    "\n",
    "    Note:\n",
    "        impl: `rotnet_street_view_resnet50` in https://github.com/d4nst/RotNet but with `RegNet_Y_3_2GF` as its backbone\n",
    "    \"\"\"\n",
    "\n",
    "    def __init__(self, cls_num: int = 180, train: bool = True) -> None:\n",
    "        super(RotNetR, self).__init__()\n",
    "\n",
    "        self.cls_num = cls_num\n",
    "\n",
    "        self.backbone = models.regnet_y_3_2gf()\n",
    "\n",
    "        fc_channels = self.backbone.fc.in_features\n",
    "        del self.backbone.fc\n",
    "        self.backbone.fc = nn.Linear(fc_channels, cls_num)\n",
    "\n",
    "        if train:\n",
    "            nn.init.kaiming_normal_(self.backbone.fc.weight)\n",
    "            nn.init.zeros_(self.backbone.fc.bias)\n",
    "\n",
    "    def forward(self, x: Tensor) -> Tensor:\n",
    "        \"\"\"\n",
    "        Args:\n",
    "            x (Tensor): img_tensor ([N,C,H,W]=[batch_size,3,224,224], dtype=float32, range=[0.0,1.0))\n",
    "\n",
    "        Returns:\n",
    "            Tensor: predict result ([N,C]=[batch_size,cls_num), dtype=float32, range=[0.0,1.0))\n",
    "        \"\"\"\n",
    "\n",
    "        x = self.backbone.forward(x)\n",
    "\n",
    "        return x\n",
    "\n",
    "    def predict(self, img_ts: Tensor) -> float:\n",
    "        \"\"\"\n",
    "        Predict the counter clockwise rotation angle.\n",
    "\n",
    "        Args:\n",
    "            img_ts (Tensor): img_tensor ([C,H,W]=[3,224,224], dtype=float32, range=[0.0,1.0))\n",
    "\n",
    "        Returns:\n",
    "            float: predict result. range=[0.0,1.0)\n",
    "\n",
    "        Note:\n",
    "            Use Image.rotate(-ret * 360) to recover the image.\n",
    "        \"\"\"\n",
    "\n",
    "        img_ts = img_ts.unsqueeze_(0)\n",
    "\n",
    "        onehot_ts = self.backbone.forward(img_ts)\n",
    "        angle = float(onehot_ts.cpu().argmax(1).item()) / self.cls_num\n",
    "\n",
    "        return angle\n",
    "\n",
    "from cap import *\n",
    "def process_captcha(img: Image, target_size: int = 224, norm: Normalize = DEFAULT_NORM) -> Tensor:\n",
    "    \"\"\"\n",
    "    Convert captcha image into tensor.\n",
    "\n",
    "    Args:\n",
    "        img (Image): captcha image (square with border)\n",
    "        target_size (int, optional): target size. Defaults to `DEFAULT_TARGET_SIZE`.\n",
    "        norm (Normalize, optional): normalize policy. Defaults to `DEFAULT_NORM`.\n",
    "\n",
    "    Returns:\n",
    "        Tensor: tensor ([C,H,W]=[3,target_size,target_size], dtype=float32, range=[0.0,1.0))\n",
    "    \"\"\"\n",
    " \n",
    "    img = img.convert('RGB')\n",
    "    img_ts = to_tensor(img)\n",
    "    img_ts = strip_border(img_ts)\n",
    "    img_ts = u8_to_float32(img_ts)\n",
    "    img_ts = square_resize(img_ts, target_size)\n",
    "    img_ts = norm(img_ts)\n",
    "\n",
    "    return img_ts"
   ]
  },
  {
   "cell_type": "code",
   "execution_count": 7,
   "metadata": {},
   "outputs": [
    {
     "name": "stdout",
     "output_type": "stream",
     "text": [
      "tensor([[[255, 255, 255,  ..., 255, 255, 255],\n",
      "         [255, 255, 255,  ..., 255, 255, 255],\n",
      "         [255, 255, 255,  ..., 255, 255, 255],\n",
      "         ...,\n",
      "         [255, 255, 255,  ..., 255, 255, 255],\n",
      "         [255, 255, 255,  ..., 255, 255, 255],\n",
      "         [255, 255, 255,  ..., 255, 255, 255]],\n",
      "\n",
      "        [[255, 255, 255,  ..., 255, 255, 255],\n",
      "         [255, 255, 255,  ..., 255, 255, 255],\n",
      "         [255, 255, 255,  ..., 255, 255, 255],\n",
      "         ...,\n",
      "         [255, 255, 255,  ..., 255, 255, 255],\n",
      "         [255, 255, 255,  ..., 255, 255, 255],\n",
      "         [255, 255, 255,  ..., 255, 255, 255]],\n",
      "\n",
      "        [[255, 255, 255,  ..., 255, 255, 255],\n",
      "         [255, 255, 255,  ..., 255, 255, 255],\n",
      "         [255, 255, 255,  ..., 255, 255, 255],\n",
      "         ...,\n",
      "         [255, 255, 255,  ..., 255, 255, 255],\n",
      "         [255, 255, 255,  ..., 255, 255, 255],\n",
      "         [255, 255, 255,  ..., 255, 255, 255]]], dtype=torch.uint8)\n"
     ]
    }
   ],
   "source": [
    "from PIL import Image\n",
    "\n",
    "img = Image.open('1.jpg')\n",
    "print(to_tensor(img))\n",
    "# print(process_captcha(img))"
   ]
  },
  {
   "cell_type": "code",
   "execution_count": 17,
   "metadata": {},
   "outputs": [],
   "source": [
    "# deal with rot\n",
    "import requests\n",
    "import requests\n",
    "from PIL import Image\n",
    "from io import BytesIO\n",
    "from selenium.webdriver import ActionChains\n",
    "\n",
    "# download CNN model from huggingface\n",
    "# model = RotNetR(cls_num=180, train=False)\n",
    "# model_path = 'best.pth'\n",
    "# model.load_state_dict(torch.load(str(model_path), map_location=torch.device('cpu')))\n",
    "model = torch.load('rot_net.pth')\n",
    "model.eval()\n",
    "\n",
    "def get_img(url):\n",
    "    header = {\n",
    "        \"Host\": \"passport.baidu.com\",\n",
    "        \"User-Agent\": \"Mozilla/5.0 (Windows NT 10.0; Win64; x64; rv:93.0) Gecko/20100101 Firefox/93.0\",\n",
    "        \"Accept\": \"image/avif,image/webp,*/*\",\n",
    "        \"Accept-Language\": \"zh-CN,zh;q=0.8,zh-TW;q=0.7,zh-HK;q=0.5,en-US;q=0.3,en;q=0.2\",\n",
    "        \"Accept-Encoding\": \"gzip, deflate, br\",\n",
    "        \"Referer\": \"https://wappass.baidu.com/\",\n",
    "        \"Connection\": \"keep-alive\",\n",
    "        \"Cookie\": \"BAIDUID=7999A864ECB04BF96DC42141762CF08C:FG=1; BIDUPSID=310DBCE84D6A8388D88171F49E098D2D; PSTM=1634536706; BDRCVFR[gltLrB7qNCt]=mk3SLVN4HKm; delPer=0; PSINO=7; H_PS_PSSID=34837_34439_34067_31254_34741_34525_34584_34504_34706_34806_34578_26350_34725_22158_34691_34671; BDORZ=FFFB88E999055A3F8A630C64834BD6D0\",\n",
    "        \"Sec-Fetch-Dest\": \"image\",\n",
    "        \"Sec-Fetch-Mode\": \"no-cors\",\n",
    "        \"Sec-Fetch-Site\": \"same-site\",\n",
    "        \"Pragma\": \"no-cache\",\n",
    "        \"Cache-Control\": \"no-cache\",\n",
    "    }\n",
    "    response = requests.get(url=url,headers=header)\n",
    " \n",
    "    if response.status_code == 200:\n",
    "        img = Image.open(BytesIO(response.content))\n",
    "    return img\n",
    "\n",
    "# brw.get('https://wappass.baidu.com/static/captcha/tuxing.html?ak=33c48884b7df83d4230e07cbcd0d07fd&backurl=https%3A%2F%2Faiqicha.baidu.com&timestamp=1634288600&signature=02fafac36a570b03a3c9100ec68b02e5')\n",
    "def solve_verify():\n",
    "    spin_button = WebDriverWait(brw, 10).until(\n",
    "        EC.presence_of_element_located((By.XPATH, '//div[contains(@class,\"passMod_slide-btn \")]'))\n",
    "    )\n",
    "    img_src = WebDriverWait(brw, 10).until(\n",
    "        EC.presence_of_element_located((By.XPATH, '//img[contains(@class,\"passMod_spin-background\")]'))\n",
    "    ).get_attribute('src')\n",
    "    \n",
    "    img = get_img(img_src)\n",
    "    def comp_rot(img):\n",
    "        return model.predict(process_captcha(img)) * 250\n",
    "    move_x = comp_rot(img)\n",
    "    # print(move_x)\n",
    "    action = ActionChains(brw)\n",
    "    action.click_and_hold(spin_button).perform()\n",
    "    action.move_by_offset(move_x, 0).perform()\n",
    "    action.release().perform()"
   ]
  },
  {
   "cell_type": "code",
   "execution_count": 13,
   "metadata": {},
   "outputs": [
    {
     "data": {
      "text/html": [
       "<div>\n",
       "<style scoped>\n",
       "    .dataframe tbody tr th:only-of-type {\n",
       "        vertical-align: middle;\n",
       "    }\n",
       "\n",
       "    .dataframe tbody tr th {\n",
       "        vertical-align: top;\n",
       "    }\n",
       "\n",
       "    .dataframe thead th {\n",
       "        text-align: right;\n",
       "    }\n",
       "</style>\n",
       "<table border=\"1\" class=\"dataframe\">\n",
       "  <thead>\n",
       "    <tr style=\"text-align: right;\">\n",
       "      <th></th>\n",
       "      <th>title</th>\n",
       "      <th>detail</th>\n",
       "      <th>author</th>\n",
       "      <th>num_reply</th>\n",
       "      <th>href</th>\n",
       "    </tr>\n",
       "  </thead>\n",
       "  <tbody>\n",
       "    <tr>\n",
       "      <th>0</th>\n",
       "      <td>遨游在知识的海洋里会被淹s吗？？？</td>\n",
       "      <td>NaN</td>\n",
       "      <td>lhxyyds1313133</td>\n",
       "      <td>0</td>\n",
       "      <td>https://tieba.baidu.com/p/8679512653</td>\n",
       "    </tr>\n",
       "    <tr>\n",
       "      <th>1</th>\n",
       "      <td>既然未成年人处处受到限制</td>\n",
       "      <td>那为什么我们不可以把未成年人作为成人用品呢？🤔</td>\n",
       "      <td>胡xx520</td>\n",
       "      <td>0</td>\n",
       "      <td>https://tieba.baidu.com/p/8679506209</td>\n",
       "    </tr>\n",
       "    <tr>\n",
       "      <th>2</th>\n",
       "      <td>人类的进化史就是一猿死万猿生</td>\n",
       "      <td>NaN</td>\n",
       "      <td>贴吧用户_0DQKD8A</td>\n",
       "      <td>1</td>\n",
       "      <td>https://tieba.baidu.com/p/8676650047</td>\n",
       "    </tr>\n",
       "    <tr>\n",
       "      <th>3</th>\n",
       "      <td>传统是过期的流行，流行是新鲜的传统</td>\n",
       "      <td>NaN</td>\n",
       "      <td>贴吧用户_ab8PGbS</td>\n",
       "      <td>5</td>\n",
       "      <td>https://tieba.baidu.com/p/8678663856</td>\n",
       "    </tr>\n",
       "    <tr>\n",
       "      <th>4</th>\n",
       "      <td>王警官听说犯人上有老下有小十分同情</td>\n",
       "      <td>把一家关在一间牢房方便犯人照顾</td>\n",
       "      <td>凡是人类</td>\n",
       "      <td>2</td>\n",
       "      <td>https://tieba.baidu.com/p/8678705819</td>\n",
       "    </tr>\n",
       "  </tbody>\n",
       "</table>\n",
       "</div>"
      ],
      "text/plain": [
       "               title                   detail          author  num_reply  \\\n",
       "0  遨游在知识的海洋里会被淹s吗？？？                      NaN  lhxyyds1313133          0   \n",
       "1       既然未成年人处处受到限制  那为什么我们不可以把未成年人作为成人用品呢？🤔          胡xx520          0   \n",
       "2     人类的进化史就是一猿死万猿生                      NaN    贴吧用户_0DQKD8A          1   \n",
       "3  传统是过期的流行，流行是新鲜的传统                      NaN    贴吧用户_ab8PGbS          5   \n",
       "4  王警官听说犯人上有老下有小十分同情          把一家关在一间牢房方便犯人照顾            凡是人类          2   \n",
       "\n",
       "                                   href  \n",
       "0  https://tieba.baidu.com/p/8679512653  \n",
       "1  https://tieba.baidu.com/p/8679506209  \n",
       "2  https://tieba.baidu.com/p/8676650047  \n",
       "3  https://tieba.baidu.com/p/8678663856  \n",
       "4  https://tieba.baidu.com/p/8678705819  "
      ]
     },
     "execution_count": 13,
     "metadata": {},
     "output_type": "execute_result"
    }
   ],
   "source": [
    "import pandas as pd\n",
    "df = pd.read_csv('data/弱智/50.csv')\n",
    "df.head()"
   ]
  },
  {
   "cell_type": "code",
   "execution_count": 25,
   "metadata": {},
   "outputs": [],
   "source": [
    "# concat all the odd table to one\n",
    "import pandas as pd\n",
    "i = 1\n",
    "df1 = pd.read_csv('data/弱智/1.csv')\n",
    "while i < 2001:\n",
    "    i += 2\n",
    "    df = pd.read_csv(f'data/弱智/{i}.csv')\n",
    "    df1 = pd.concat([df1, df], ignore_index=True)\n",
    "\n",
    "i=2\n",
    "df2 = pd.read_csv('data/弱智/2.csv')\n",
    "while i < 2000: \n",
    "    i += 2\n",
    "    df = pd.read_csv(f'data/弱智/{i}.csv')\n",
    "    df2 = pd.concat([df2, df], ignore_index=True)"
   ]
  },
  {
   "cell_type": "code",
   "execution_count": 48,
   "metadata": {},
   "outputs": [
    {
     "name": "stdout",
     "output_type": "stream",
     "text": [
      "<class 'pandas.core.frame.DataFrame'>\n",
      "RangeIndex: 46433 entries, 0 to 46432\n",
      "Data columns (total 5 columns):\n",
      " #   Column     Non-Null Count  Dtype \n",
      "---  ------     --------------  ----- \n",
      " 0   title      46433 non-null  object\n",
      " 1   detail     28673 non-null  object\n",
      " 2   author     46428 non-null  object\n",
      " 3   num_reply  46433 non-null  int64 \n",
      " 4   href       46433 non-null  object\n",
      "dtypes: int64(1), object(4)\n",
      "memory usage: 1.8+ MB\n",
      "<class 'pandas.core.frame.DataFrame'>\n",
      "RangeIndex: 46608 entries, 0 to 46607\n",
      "Data columns (total 5 columns):\n",
      " #   Column     Non-Null Count  Dtype \n",
      "---  ------     --------------  ----- \n",
      " 0   title      46608 non-null  object\n",
      " 1   detail     28615 non-null  object\n",
      " 2   author     46601 non-null  object\n",
      " 3   num_reply  46608 non-null  int64 \n",
      " 4   href       46608 non-null  object\n",
      "dtypes: int64(1), object(4)\n",
      "memory usage: 1.8+ MB\n"
     ]
    }
   ],
   "source": [
    "df1.info()\n",
    "df2.info()"
   ]
  },
  {
   "cell_type": "code",
   "execution_count": 50,
   "metadata": {},
   "outputs": [
    {
     "data": {
      "text/plain": [
       "93041"
      ]
     },
     "execution_count": 50,
     "metadata": {},
     "output_type": "execute_result"
    }
   ],
   "source": [
    "46433+46608"
   ]
  },
  {
   "cell_type": "code",
   "execution_count": 83,
   "metadata": {},
   "outputs": [
    {
     "name": "stdout",
     "output_type": "stream",
     "text": [
      "<class 'pandas.core.frame.DataFrame'>\n",
      "Int64Index: 92509 entries, 0 to 92508\n",
      "Data columns (total 5 columns):\n",
      " #   Column     Non-Null Count  Dtype \n",
      "---  ------     --------------  ----- \n",
      " 0   title      92509 non-null  object\n",
      " 1   detail     56971 non-null  object\n",
      " 2   author     92499 non-null  object\n",
      " 3   num_reply  92509 non-null  int64 \n",
      " 4   href       92509 non-null  object\n",
      "dtypes: int64(1), object(4)\n",
      "memory usage: 4.2+ MB\n"
     ]
    }
   ],
   "source": [
    "df = pd.merge(df1, df2, how='outer', on=df1.columns.tolist())\n",
    "df.info()"
   ]
  },
  {
   "cell_type": "code",
   "execution_count": 52,
   "metadata": {},
   "outputs": [],
   "source": [
    "df.to_csv(os.path.join(folder.format(name), f'raw_data.csv'), index=False)"
   ]
  },
  {
   "cell_type": "code",
   "execution_count": 84,
   "metadata": {},
   "outputs": [
    {
     "data": {
      "text/html": [
       "<div>\n",
       "<style scoped>\n",
       "    .dataframe tbody tr th:only-of-type {\n",
       "        vertical-align: middle;\n",
       "    }\n",
       "\n",
       "    .dataframe tbody tr th {\n",
       "        vertical-align: top;\n",
       "    }\n",
       "\n",
       "    .dataframe thead th {\n",
       "        text-align: right;\n",
       "    }\n",
       "</style>\n",
       "<table border=\"1\" class=\"dataframe\">\n",
       "  <thead>\n",
       "    <tr style=\"text-align: right;\">\n",
       "      <th></th>\n",
       "      <th>id</th>\n",
       "      <th>title</th>\n",
       "      <th>detail</th>\n",
       "      <th>author</th>\n",
       "      <th>num_reply</th>\n",
       "      <th>href</th>\n",
       "    </tr>\n",
       "  </thead>\n",
       "  <tbody>\n",
       "    <tr>\n",
       "      <th>0</th>\n",
       "      <td>0</td>\n",
       "      <td>排队的时候发现自己被陌生人尾随了该怎么报警</td>\n",
       "      <td>NaN</td>\n",
       "      <td>摧铩</td>\n",
       "      <td>754</td>\n",
       "      <td>https://tieba.baidu.com/p/8090180053</td>\n",
       "    </tr>\n",
       "    <tr>\n",
       "      <th>1</th>\n",
       "      <td>1</td>\n",
       "      <td>我被两个护士架在房间内，她们是不是认我当将军了？</td>\n",
       "      <td>NaN</td>\n",
       "      <td>-白给十字军-</td>\n",
       "      <td>7</td>\n",
       "      <td>https://tieba.baidu.com/p/8712781320</td>\n",
       "    </tr>\n",
       "    <tr>\n",
       "      <th>2</th>\n",
       "      <td>2</td>\n",
       "      <td>整天在工作时胡思乱想，精神大爆发怎么办？</td>\n",
       "      <td>正在看规范书，准备下午工作或出报告，但看的看的，突然在思考一个问题... 可口可乐混盐汽水陪...</td>\n",
       "      <td>童封繁</td>\n",
       "      <td>4</td>\n",
       "      <td>https://tieba.baidu.com/p/8712953472</td>\n",
       "    </tr>\n",
       "    <tr>\n",
       "      <th>3</th>\n",
       "      <td>3</td>\n",
       "      <td>如果两个会读心术的人互相读心，他们读的是谁的心？</td>\n",
       "      <td>NaN</td>\n",
       "      <td>贴吧用户_aJtEX5X</td>\n",
       "      <td>0</td>\n",
       "      <td>https://tieba.baidu.com/p/8712961822</td>\n",
       "    </tr>\n",
       "    <tr>\n",
       "      <th>4</th>\n",
       "      <td>4</td>\n",
       "      <td>你只准备了5杯水，来了一亿个领导</td>\n",
       "      <td>你应该怎么分配这些水</td>\n",
       "      <td>冰糖肘子😜</td>\n",
       "      <td>2361</td>\n",
       "      <td>https://tieba.baidu.com/p/8703341221</td>\n",
       "    </tr>\n",
       "  </tbody>\n",
       "</table>\n",
       "</div>"
      ],
      "text/plain": [
       "   id                     title  \\\n",
       "0   0     排队的时候发现自己被陌生人尾随了该怎么报警   \n",
       "1   1  我被两个护士架在房间内，她们是不是认我当将军了？   \n",
       "2   2      整天在工作时胡思乱想，精神大爆发怎么办？   \n",
       "3   3  如果两个会读心术的人互相读心，他们读的是谁的心？   \n",
       "4   4          你只准备了5杯水，来了一亿个领导   \n",
       "\n",
       "                                              detail        author  num_reply  \\\n",
       "0                                                NaN            摧铩        754   \n",
       "1                                                NaN       -白给十字军-          7   \n",
       "2  正在看规范书，准备下午工作或出报告，但看的看的，突然在思考一个问题... 可口可乐混盐汽水陪...           童封繁          4   \n",
       "3                                                NaN  贴吧用户_aJtEX5X          0   \n",
       "4                                         你应该怎么分配这些水         冰糖肘子😜       2361   \n",
       "\n",
       "                                   href  \n",
       "0  https://tieba.baidu.com/p/8090180053  \n",
       "1  https://tieba.baidu.com/p/8712781320  \n",
       "2  https://tieba.baidu.com/p/8712953472  \n",
       "3  https://tieba.baidu.com/p/8712961822  \n",
       "4  https://tieba.baidu.com/p/8703341221  "
      ]
     },
     "execution_count": 84,
     "metadata": {},
     "output_type": "execute_result"
    }
   ],
   "source": [
    "# sort by num_reply\n",
    "# df = df.sort_values(by='num_reply', ascending=False)\n",
    "# 加一个id列\n",
    "df['id'] = df.index.tolist()\n",
    "# 把id列移到第一个\n",
    "cols = df.columns.tolist()\n",
    "cols = cols[-1:] + cols[:-1]\n",
    "df = df[cols]\n",
    "df.head()\n"
   ]
  },
  {
   "cell_type": "code",
   "execution_count": 76,
   "metadata": {},
   "outputs": [],
   "source": [
    "df1w = df[df[\"num_reply\"]<100]\n",
    "df1w = df1w[df1w[\"num_reply\"]>5]"
   ]
  },
  {
   "cell_type": "code",
   "execution_count": 77,
   "metadata": {},
   "outputs": [
    {
     "data": {
      "image/png": "[encoded data removed]",
      "text/plain": [
       "<Figure size 640x480 with 1 Axes>"
      ]
     },
     "metadata": {},
     "output_type": "display_data"
    }
   ],
   "source": [
    "import pandas as pd\n",
    "import numpy as np\n",
    "import matplotlib.pyplot as plt\n",
    "\n",
    "plt.hist(df1w['num_reply'], bins=100, edgecolor='black')\n",
    "plt.title('Histogram of num_reply')\n",
    "plt.xlabel('Number of Replies')\n",
    "plt.ylabel('Frequency')\n",
    "plt.show()\n"
   ]
  },
  {
   "cell_type": "code",
   "execution_count": 14,
   "metadata": {},
   "outputs": [],
   "source": [
    "import pandas as pd\n",
    "df = pd.read_csv('data/弱智/wisdomBar_raw.csv')"
   ]
  },
  {
   "cell_type": "code",
   "execution_count": 18,
   "metadata": {},
   "outputs": [
    {
     "data": {
      "text/plain": [
       "46464       弱智吧突击考试，共20题，每题5分，满分100分，含作文\n",
       "47861                       回忆向：我在青龙山的日子\n",
       "161                   年度总结：弱吧2021年度306佳贴\n",
       "51697                              正常人日记\n",
       "121                         鸡柳是鸡身上哪个部位啊？\n",
       "303                       弱智吧2022年度365佳贴\n",
       "48044       【贴图】弱智吧大神们快来认领！经典语录漫画版《一句笑话》\n",
       "46462      弱智吧官方水楼！注意！从今天起在其他贴子里水经验将概率封禁\n",
       "157                         这两款香水哪一个比较好阿\n",
       "46454                         弱智吧神回复第三期。\n",
       "46469                           都成流量密码了都\n",
       "58                       有没有会盲文的摸一下什么意思？\n",
       "46509                        有哪些违法行为是合法的\n",
       "45                只切一刀，如何把四个橘子平均分给四个小朋友？\n",
       "6968      谁能想到，这名年仅16岁的少女四年前只是一名年仅12岁的少女\n",
       "46496                  我用的是晨光的笔，那么你们都是啥笔\n",
       "23080          樟脑丸是我吃过最难吃的硬糖有奇怪的味道怎么还有人买\n",
       "7853                     《一颗无花果，千军万马来相见》\n",
       "6011                   我们弱智应该知道的100条人生格言\n",
       "46592     兄弟们，没球拍了，同学把他的拍锁 上了不让我用了怎么办😡😡😡\n",
       "46458         现在的学历歧视太严重了，我说我对象在上小学一堆人骂我\n",
       "92                 弱智吧19岁生日快乐！近年神回复鉴赏大会！\n",
       "5912                  严重的恐高症害得我终身无法低头捡到钱\n",
       "1312               出生前爸爸没了叫遗腹子，那妈妈没了叫什么？\n",
       "47144                年度总结：弱吧2020年年度365佳贴\n",
       "6006                        其实我不是弱智是个诗人！\n",
       "46505                   美国登月叫阿波罗了，那豋日叫什么\n",
       "46554                   人会创造一个完全没有意义的詞吗？\n",
       "67779                    论神经病的天才性（不定时更新）\n",
       "885                   年度总结：弱吧19年年度336佳贴。\n",
       "46481                             弱智期末考试\n",
       "46495                  地球外面叫太空，那地球里面叫什么呢\n",
       "46475    既然生锈的刀砍人会让人得破伤风，古代为什么不直接用生锈的武器?\n",
       "1553             太阳还有五十亿年就没了，那到时候向日葵看哪呢？\n",
       "209                         去美国坐飞机只要五分钟？\n",
       "25595     如果你被人用绳子绑上了，又在嘴里塞了一块破抹布，你心里想什么\n",
       "4076                          我给大家表演下站军姿\n",
       "46826                               诗词王子\n",
       "199                         本人医生，现是本吧志愿者\n",
       "2378                            马上要上游泳课了\n",
       "46474                             这该怎么吃啊\n",
       "46451           如果我吃自己的屎，我是生产者还是消费者还是分解者\n",
       "49885                     写完这篇文章我的精神分裂好了\n",
       "12886                               我要写诗\n",
       "49474                     你永远不知道自律的人有多可怕\n",
       "46791                 每个人工作都是为了赚钱，那么谁在亏钱\n",
       "46546         本人精通汉字，无论有多复杂，你们随便发一个字我都会写\n",
       "24                      为什么没人说ABCD型的成语？🤔\n",
       "1960                     请用一句话证明你没有看到这句话\n",
       "48241                   文言文是用哪个词来表示\"电脑\"的\n",
       "Name: title, dtype: object"
      ]
     },
     "execution_count": 18,
     "metadata": {},
     "output_type": "execute_result"
    }
   ],
   "source": [
    "df = df.sort_values(by='num_reply', ascending=False)\n",
    "df[:50]['title']"
   ]
  },
  {
   "cell_type": "code",
   "execution_count": 13,
   "metadata": {},
   "outputs": [
    {
     "data": {
      "text/html": [
       "<div>\n",
       "<style scoped>\n",
       "    .dataframe tbody tr th:only-of-type {\n",
       "        vertical-align: middle;\n",
       "    }\n",
       "\n",
       "    .dataframe tbody tr th {\n",
       "        vertical-align: top;\n",
       "    }\n",
       "\n",
       "    .dataframe thead th {\n",
       "        text-align: right;\n",
       "    }\n",
       "</style>\n",
       "<table border=\"1\" class=\"dataframe\">\n",
       "  <thead>\n",
       "    <tr style=\"text-align: right;\">\n",
       "      <th></th>\n",
       "      <th>title</th>\n",
       "      <th>detail</th>\n",
       "      <th>author</th>\n",
       "      <th>num_reply</th>\n",
       "      <th>href</th>\n",
       "    </tr>\n",
       "  </thead>\n",
       "  <tbody>\n",
       "  </tbody>\n",
       "</table>\n",
       "</div>"
      ],
      "text/plain": [
       "Empty DataFrame\n",
       "Columns: [title, detail, author, num_reply, href]\n",
       "Index: []"
      ]
     },
     "execution_count": 13,
     "metadata": {},
     "output_type": "execute_result"
    }
   ],
   "source": [
    "# find all the title contain \"月亮\"\n",
    "df[df['title'].str.contains('怎么样才能确保尸体活着')]"
   ]
  },
  {
   "cell_type": "code",
   "execution_count": null,
   "metadata": {},
   "outputs": [],
   "source": []
  }
 ],
 "metadata": {
  "kernelspec": {
   "display_name": "base",
   "language": "python",
   "name": "python3"
  },
  "language_info": {
   "codemirror_mode": {
    "name": "ipython",
    "version": 3
   },
   "file_extension": ".py",
   "mimetype": "text/x-python",
   "name": "python",
   "nbconvert_exporter": "python",
   "pygments_lexer": "ipython3",
   "version": "3.9.18"
  }
 },
 "nbformat": 4,
 "nbformat_minor": 2
}
